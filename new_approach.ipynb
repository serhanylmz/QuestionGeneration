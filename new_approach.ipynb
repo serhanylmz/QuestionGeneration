{
 "cells": [
  {
   "cell_type": "markdown",
   "metadata": {},
   "source": [
    "### 1) Dataset Generation: SQuAD + Trivia QA + Hotpot QA + Natural Questions QA"
   ]
  },
  {
   "cell_type": "code",
   "execution_count": 66,
   "metadata": {},
   "outputs": [],
   "source": [
    "from datasets import load_dataset\n",
    "from typing import List, Dict, Any\n",
    "import pandas as pd\n",
    "\n",
    "def process_squad(dataset: Any) -> List[Dict[str, str]]:\n",
    "    return [\n",
    "        {\n",
    "            \"context\": example['context'],\n",
    "            \"question\": example['question'],\n",
    "            \"answer\": example['answers']['text'][0] if example['answers']['text'] else \"\"\n",
    "        }\n",
    "        for example in dataset['train']\n",
    "    ]\n",
    "\n",
    "def process_adversarial_qa(dataset: Any) -> List[Dict[str, str]]:\n",
    "    return [\n",
    "        {\n",
    "            \"context\": example['context'],\n",
    "            \"question\": example['question'],\n",
    "            \"answer\": example['answers']['text'][0] if example['answers']['text'] else \"\"\n",
    "        }\n",
    "        for example in dataset['train']\n",
    "    ]\n",
    "\n",
    "def process_drop(dataset: Any) -> List[Dict[str, str]]:\n",
    "    return [\n",
    "        {\n",
    "            \"context\": example['passage'],\n",
    "            \"question\": example['question'],\n",
    "            \"answer\": example['answers_spans']['spans'][0] if example['answers_spans']['spans'] else \"\"\n",
    "        }\n",
    "        for example in dataset['train']\n",
    "    ]\n",
    "\n",
    "def process_duorc(dataset: Any) -> List[Dict[str, str]]:\n",
    "    return [\n",
    "        {\n",
    "            \"context\": example['plot'],\n",
    "            \"question\": example['question'],\n",
    "            \"answer\": example['answers'][0] if example['answers']['0'] else \"\"\n",
    "        }\n",
    "        for example in dataset['train']\n",
    "    ]\n",
    "def load_datasets():\n",
    "    print(\"Loading datasets...\")\n",
    "    datasets = {\n",
    "        \"SQuAD\": load_dataset(\"squad\"),\n",
    "        \"AdversarialQA\": load_dataset(\"adversarial_qa\", \"adversarialQA\"),\n",
    "        \"DROP\": load_dataset(\"ucinlp/drop\"),\n",
    "        \"DUO_RC\": load_dataset(\"ibm/duorc\", \"ParaphraseRC\")\n",
    "    }\n",
    "    print(\"Datasets loaded successfully.\")\n",
    "    return datasets\n",
    "\n",
    "def process_datasets(datasets):\n",
    "    merged_data = []\n",
    "\n",
    "    print(\"Processing SQuAD...\")\n",
    "    merged_data.extend(process_squad(datasets[\"SQuAD\"]))\n",
    "    print(\"Processing NewsQA...\")\n",
    "    merged_data.extend(process_adversarial_qa(datasets[\"AdversarialQA\"]))\n",
    "    print(\"Processing DROP...\")\n",
    "    merged_data.extend(process_drop(datasets[\"DROP\"]))\n",
    "\n",
    "    # Convert to DataFrame for easy handling\n",
    "    df = pd.DataFrame(merged_data)\n",
    "    return df"
   ]
  },
  {
   "cell_type": "code",
   "execution_count": 67,
   "metadata": {},
   "outputs": [
    {
     "name": "stdout",
     "output_type": "stream",
     "text": [
      "Loading datasets...\n"
     ]
    },
    {
     "data": {
      "application/vnd.jupyter.widget-view+json": {
       "model_id": "0c7d6d55618d4564bfc874492359d296",
       "version_major": 2,
       "version_minor": 0
      },
      "text/plain": [
       "Downloading readme:   0%|          | 0.00/6.91k [00:00<?, ?B/s]"
      ]
     },
     "metadata": {},
     "output_type": "display_data"
    },
    {
     "data": {
      "application/vnd.jupyter.widget-view+json": {
       "model_id": "620e47e69269407eaccb6eb69b6b39e2",
       "version_major": 2,
       "version_minor": 0
      },
      "text/plain": [
       "Downloading data:   0%|          | 0.00/10.3M [00:00<?, ?B/s]"
      ]
     },
     "metadata": {},
     "output_type": "display_data"
    },
    {
     "data": {
      "application/vnd.jupyter.widget-view+json": {
       "model_id": "7e18bba2f3324b5ba709c5a1943af245",
       "version_major": 2,
       "version_minor": 0
      },
      "text/plain": [
       "Downloading data:   0%|          | 0.00/1.21M [00:00<?, ?B/s]"
      ]
     },
     "metadata": {},
     "output_type": "display_data"
    },
    {
     "data": {
      "application/vnd.jupyter.widget-view+json": {
       "model_id": "8814dfff4cd3432f97c69c87406e8db9",
       "version_major": 2,
       "version_minor": 0
      },
      "text/plain": [
       "Generating train split:   0%|          | 0/77400 [00:00<?, ? examples/s]"
      ]
     },
     "metadata": {},
     "output_type": "display_data"
    },
    {
     "data": {
      "application/vnd.jupyter.widget-view+json": {
       "model_id": "573b60fdab114b07afab5c3b96cb6fef",
       "version_major": 2,
       "version_minor": 0
      },
      "text/plain": [
       "Generating validation split:   0%|          | 0/9535 [00:00<?, ? examples/s]"
      ]
     },
     "metadata": {},
     "output_type": "display_data"
    },
    {
     "name": "stdout",
     "output_type": "stream",
     "text": [
      "Datasets loaded successfully.\n"
     ]
    }
   ],
   "source": [
    "loaded_datasets = load_datasets()"
   ]
  },
  {
   "cell_type": "code",
   "execution_count": 68,
   "metadata": {},
   "outputs": [],
   "source": [
    "def view_squad(dataset):\n",
    "    squad_df = pd.DataFrame(dataset['train'])\n",
    "    print(\"SQuAD Sample:\")\n",
    "    display(squad_df.head())\n",
    "\n",
    "def view_adversarial_qa(dataset):\n",
    "    adversarial_qa_df = pd.DataFrame(dataset['train'])\n",
    "    print(\"AdversarialQA Sample:\")\n",
    "    display(adversarial_qa_df.head())\n",
    "\n",
    "def view_drop(dataset):\n",
    "    drop_df = pd.DataFrame(dataset['train'])\n",
    "    print(\"DROP Sample:\")\n",
    "    display(drop_df.head())"
   ]
  },
  {
   "cell_type": "code",
   "execution_count": 69,
   "metadata": {},
   "outputs": [
    {
     "name": "stdout",
     "output_type": "stream",
     "text": [
      "SQuAD Sample:\n"
     ]
    },
    {
     "data": {
      "text/html": [
       "<div>\n",
       "<style scoped>\n",
       "    .dataframe tbody tr th:only-of-type {\n",
       "        vertical-align: middle;\n",
       "    }\n",
       "\n",
       "    .dataframe tbody tr th {\n",
       "        vertical-align: top;\n",
       "    }\n",
       "\n",
       "    .dataframe thead th {\n",
       "        text-align: right;\n",
       "    }\n",
       "</style>\n",
       "<table border=\"1\" class=\"dataframe\">\n",
       "  <thead>\n",
       "    <tr style=\"text-align: right;\">\n",
       "      <th></th>\n",
       "      <th>id</th>\n",
       "      <th>title</th>\n",
       "      <th>context</th>\n",
       "      <th>question</th>\n",
       "      <th>answers</th>\n",
       "    </tr>\n",
       "  </thead>\n",
       "  <tbody>\n",
       "    <tr>\n",
       "      <th>0</th>\n",
       "      <td>5733be284776f41900661182</td>\n",
       "      <td>University_of_Notre_Dame</td>\n",
       "      <td>Architecturally, the school has a Catholic cha...</td>\n",
       "      <td>To whom did the Virgin Mary allegedly appear i...</td>\n",
       "      <td>{'text': ['Saint Bernadette Soubirous'], 'answ...</td>\n",
       "    </tr>\n",
       "    <tr>\n",
       "      <th>1</th>\n",
       "      <td>5733be284776f4190066117f</td>\n",
       "      <td>University_of_Notre_Dame</td>\n",
       "      <td>Architecturally, the school has a Catholic cha...</td>\n",
       "      <td>What is in front of the Notre Dame Main Building?</td>\n",
       "      <td>{'text': ['a copper statue of Christ'], 'answe...</td>\n",
       "    </tr>\n",
       "    <tr>\n",
       "      <th>2</th>\n",
       "      <td>5733be284776f41900661180</td>\n",
       "      <td>University_of_Notre_Dame</td>\n",
       "      <td>Architecturally, the school has a Catholic cha...</td>\n",
       "      <td>The Basilica of the Sacred heart at Notre Dame...</td>\n",
       "      <td>{'text': ['the Main Building'], 'answer_start'...</td>\n",
       "    </tr>\n",
       "    <tr>\n",
       "      <th>3</th>\n",
       "      <td>5733be284776f41900661181</td>\n",
       "      <td>University_of_Notre_Dame</td>\n",
       "      <td>Architecturally, the school has a Catholic cha...</td>\n",
       "      <td>What is the Grotto at Notre Dame?</td>\n",
       "      <td>{'text': ['a Marian place of prayer and reflec...</td>\n",
       "    </tr>\n",
       "    <tr>\n",
       "      <th>4</th>\n",
       "      <td>5733be284776f4190066117e</td>\n",
       "      <td>University_of_Notre_Dame</td>\n",
       "      <td>Architecturally, the school has a Catholic cha...</td>\n",
       "      <td>What sits on top of the Main Building at Notre...</td>\n",
       "      <td>{'text': ['a golden statue of the Virgin Mary'...</td>\n",
       "    </tr>\n",
       "  </tbody>\n",
       "</table>\n",
       "</div>"
      ],
      "text/plain": [
       "                         id                     title  \\\n",
       "0  5733be284776f41900661182  University_of_Notre_Dame   \n",
       "1  5733be284776f4190066117f  University_of_Notre_Dame   \n",
       "2  5733be284776f41900661180  University_of_Notre_Dame   \n",
       "3  5733be284776f41900661181  University_of_Notre_Dame   \n",
       "4  5733be284776f4190066117e  University_of_Notre_Dame   \n",
       "\n",
       "                                             context  \\\n",
       "0  Architecturally, the school has a Catholic cha...   \n",
       "1  Architecturally, the school has a Catholic cha...   \n",
       "2  Architecturally, the school has a Catholic cha...   \n",
       "3  Architecturally, the school has a Catholic cha...   \n",
       "4  Architecturally, the school has a Catholic cha...   \n",
       "\n",
       "                                            question  \\\n",
       "0  To whom did the Virgin Mary allegedly appear i...   \n",
       "1  What is in front of the Notre Dame Main Building?   \n",
       "2  The Basilica of the Sacred heart at Notre Dame...   \n",
       "3                  What is the Grotto at Notre Dame?   \n",
       "4  What sits on top of the Main Building at Notre...   \n",
       "\n",
       "                                             answers  \n",
       "0  {'text': ['Saint Bernadette Soubirous'], 'answ...  \n",
       "1  {'text': ['a copper statue of Christ'], 'answe...  \n",
       "2  {'text': ['the Main Building'], 'answer_start'...  \n",
       "3  {'text': ['a Marian place of prayer and reflec...  \n",
       "4  {'text': ['a golden statue of the Virgin Mary'...  "
      ]
     },
     "metadata": {},
     "output_type": "display_data"
    }
   ],
   "source": [
    "view_squad(loaded_datasets['SQuAD'])"
   ]
  },
  {
   "cell_type": "code",
   "execution_count": 70,
   "metadata": {},
   "outputs": [
    {
     "name": "stdout",
     "output_type": "stream",
     "text": [
      "AdversarialQA Sample:\n"
     ]
    },
    {
     "data": {
      "text/html": [
       "<div>\n",
       "<style scoped>\n",
       "    .dataframe tbody tr th:only-of-type {\n",
       "        vertical-align: middle;\n",
       "    }\n",
       "\n",
       "    .dataframe tbody tr th {\n",
       "        vertical-align: top;\n",
       "    }\n",
       "\n",
       "    .dataframe thead th {\n",
       "        text-align: right;\n",
       "    }\n",
       "</style>\n",
       "<table border=\"1\" class=\"dataframe\">\n",
       "  <thead>\n",
       "    <tr style=\"text-align: right;\">\n",
       "      <th></th>\n",
       "      <th>id</th>\n",
       "      <th>title</th>\n",
       "      <th>context</th>\n",
       "      <th>question</th>\n",
       "      <th>answers</th>\n",
       "      <th>metadata</th>\n",
       "    </tr>\n",
       "  </thead>\n",
       "  <tbody>\n",
       "    <tr>\n",
       "      <th>0</th>\n",
       "      <td>7ba1e8f4261d3170fcf42e84a81dd749116fae95</td>\n",
       "      <td>Brain</td>\n",
       "      <td>Another approach to brain function is to exami...</td>\n",
       "      <td>What sare the benifts of the blood brain barrir?</td>\n",
       "      <td>{'text': ['isolated from the bloodstream'], 'a...</td>\n",
       "      <td>{'split': 'train', 'model_in_the_loop': 'Combi...</td>\n",
       "    </tr>\n",
       "    <tr>\n",
       "      <th>1</th>\n",
       "      <td>5ec5ef305a259311596e85d811ade30bd68b079d</td>\n",
       "      <td>Brain</td>\n",
       "      <td>Another approach to brain function is to exami...</td>\n",
       "      <td>What is surrounded by cerebrospinal fluid?</td>\n",
       "      <td>{'text': ['brain'], 'answer_start': [280]}</td>\n",
       "      <td>{'split': 'train', 'model_in_the_loop': 'Combi...</td>\n",
       "    </tr>\n",
       "    <tr>\n",
       "      <th>2</th>\n",
       "      <td>7cb230edfb15ad1fda8d157af1f2b574cbb02b4c</td>\n",
       "      <td>Brain</td>\n",
       "      <td>Another approach to brain function is to exami...</td>\n",
       "      <td>What does the skull protect?</td>\n",
       "      <td>{'text': ['brain'], 'answer_start': [280]}</td>\n",
       "      <td>{'split': 'train', 'model_in_the_loop': 'Combi...</td>\n",
       "    </tr>\n",
       "    <tr>\n",
       "      <th>3</th>\n",
       "      <td>e1850f2a48b8f7c2231cec41ed63c1b638a8e2c7</td>\n",
       "      <td>Brain</td>\n",
       "      <td>Another approach to brain function is to exami...</td>\n",
       "      <td>What has been injected into rats to produce pr...</td>\n",
       "      <td>{'text': ['chemicals'], 'answer_start': [723]}</td>\n",
       "      <td>{'split': 'train', 'model_in_the_loop': 'Combi...</td>\n",
       "    </tr>\n",
       "    <tr>\n",
       "      <th>4</th>\n",
       "      <td>7bc0ae1a8a24ea4f3398b5236ab9569bbc3e820b</td>\n",
       "      <td>Brain</td>\n",
       "      <td>Another approach to brain function is to exami...</td>\n",
       "      <td>What can cause issues with how the brain works?</td>\n",
       "      <td>{'text': ['brain damage'], 'answer_start': [409]}</td>\n",
       "      <td>{'split': 'train', 'model_in_the_loop': 'Combi...</td>\n",
       "    </tr>\n",
       "  </tbody>\n",
       "</table>\n",
       "</div>"
      ],
      "text/plain": [
       "                                         id  title  \\\n",
       "0  7ba1e8f4261d3170fcf42e84a81dd749116fae95  Brain   \n",
       "1  5ec5ef305a259311596e85d811ade30bd68b079d  Brain   \n",
       "2  7cb230edfb15ad1fda8d157af1f2b574cbb02b4c  Brain   \n",
       "3  e1850f2a48b8f7c2231cec41ed63c1b638a8e2c7  Brain   \n",
       "4  7bc0ae1a8a24ea4f3398b5236ab9569bbc3e820b  Brain   \n",
       "\n",
       "                                             context  \\\n",
       "0  Another approach to brain function is to exami...   \n",
       "1  Another approach to brain function is to exami...   \n",
       "2  Another approach to brain function is to exami...   \n",
       "3  Another approach to brain function is to exami...   \n",
       "4  Another approach to brain function is to exami...   \n",
       "\n",
       "                                            question  \\\n",
       "0   What sare the benifts of the blood brain barrir?   \n",
       "1         What is surrounded by cerebrospinal fluid?   \n",
       "2                       What does the skull protect?   \n",
       "3  What has been injected into rats to produce pr...   \n",
       "4    What can cause issues with how the brain works?   \n",
       "\n",
       "                                             answers  \\\n",
       "0  {'text': ['isolated from the bloodstream'], 'a...   \n",
       "1         {'text': ['brain'], 'answer_start': [280]}   \n",
       "2         {'text': ['brain'], 'answer_start': [280]}   \n",
       "3     {'text': ['chemicals'], 'answer_start': [723]}   \n",
       "4  {'text': ['brain damage'], 'answer_start': [409]}   \n",
       "\n",
       "                                            metadata  \n",
       "0  {'split': 'train', 'model_in_the_loop': 'Combi...  \n",
       "1  {'split': 'train', 'model_in_the_loop': 'Combi...  \n",
       "2  {'split': 'train', 'model_in_the_loop': 'Combi...  \n",
       "3  {'split': 'train', 'model_in_the_loop': 'Combi...  \n",
       "4  {'split': 'train', 'model_in_the_loop': 'Combi...  "
      ]
     },
     "metadata": {},
     "output_type": "display_data"
    }
   ],
   "source": [
    "view_adversarial_qa(loaded_datasets['AdversarialQA'])"
   ]
  },
  {
   "cell_type": "code",
   "execution_count": 71,
   "metadata": {},
   "outputs": [
    {
     "name": "stdout",
     "output_type": "stream",
     "text": [
      "DROP Sample:\n"
     ]
    },
    {
     "data": {
      "text/html": [
       "<div>\n",
       "<style scoped>\n",
       "    .dataframe tbody tr th:only-of-type {\n",
       "        vertical-align: middle;\n",
       "    }\n",
       "\n",
       "    .dataframe tbody tr th {\n",
       "        vertical-align: top;\n",
       "    }\n",
       "\n",
       "    .dataframe thead th {\n",
       "        text-align: right;\n",
       "    }\n",
       "</style>\n",
       "<table border=\"1\" class=\"dataframe\">\n",
       "  <thead>\n",
       "    <tr style=\"text-align: right;\">\n",
       "      <th></th>\n",
       "      <th>section_id</th>\n",
       "      <th>query_id</th>\n",
       "      <th>passage</th>\n",
       "      <th>question</th>\n",
       "      <th>answers_spans</th>\n",
       "    </tr>\n",
       "  </thead>\n",
       "  <tbody>\n",
       "    <tr>\n",
       "      <th>0</th>\n",
       "      <td>nfl_2201</td>\n",
       "      <td>f16c0ee7-f131-4a8b-a6ac-4d275ea68066</td>\n",
       "      <td>To start the season, the Lions traveled south ...</td>\n",
       "      <td>How many points did the buccaneers need to tie...</td>\n",
       "      <td>{'spans': ['3'], 'types': ['number']}</td>\n",
       "    </tr>\n",
       "    <tr>\n",
       "      <th>1</th>\n",
       "      <td>nfl_2201</td>\n",
       "      <td>c9582e03-b01b-42ed-83e0-b90a5334aefa</td>\n",
       "      <td>To start the season, the Lions traveled south ...</td>\n",
       "      <td>How many field goals did the Lions score?</td>\n",
       "      <td>{'spans': ['2'], 'types': ['number']}</td>\n",
       "    </tr>\n",
       "    <tr>\n",
       "      <th>2</th>\n",
       "      <td>nfl_2201</td>\n",
       "      <td>f703d43d-73fa-4fda-8913-d81bd5569700</td>\n",
       "      <td>To start the season, the Lions traveled south ...</td>\n",
       "      <td>How long was the Lion's longest field goal?</td>\n",
       "      <td>{'spans': ['28-yard'], 'types': ['span']}</td>\n",
       "    </tr>\n",
       "    <tr>\n",
       "      <th>3</th>\n",
       "      <td>nfl_2201</td>\n",
       "      <td>2fd4f473-af2b-44ce-929a-20c82fa6be2c</td>\n",
       "      <td>To start the season, the Lions traveled south ...</td>\n",
       "      <td>Who caught the touchdown for the fewest yard?</td>\n",
       "      <td>{'spans': ['Mike Williams'], 'types': ['span']}</td>\n",
       "    </tr>\n",
       "    <tr>\n",
       "      <th>4</th>\n",
       "      <td>nfl_2201</td>\n",
       "      <td>6592e06d-4ad6-484f-a9a5-5cb72c76dfee</td>\n",
       "      <td>To start the season, the Lions traveled south ...</td>\n",
       "      <td>Who caught the shortest touchdown pass?</td>\n",
       "      <td>{'spans': ['Calvin Johnson'], 'types': ['span']}</td>\n",
       "    </tr>\n",
       "  </tbody>\n",
       "</table>\n",
       "</div>"
      ],
      "text/plain": [
       "  section_id                              query_id  \\\n",
       "0   nfl_2201  f16c0ee7-f131-4a8b-a6ac-4d275ea68066   \n",
       "1   nfl_2201  c9582e03-b01b-42ed-83e0-b90a5334aefa   \n",
       "2   nfl_2201  f703d43d-73fa-4fda-8913-d81bd5569700   \n",
       "3   nfl_2201  2fd4f473-af2b-44ce-929a-20c82fa6be2c   \n",
       "4   nfl_2201  6592e06d-4ad6-484f-a9a5-5cb72c76dfee   \n",
       "\n",
       "                                             passage  \\\n",
       "0  To start the season, the Lions traveled south ...   \n",
       "1  To start the season, the Lions traveled south ...   \n",
       "2  To start the season, the Lions traveled south ...   \n",
       "3  To start the season, the Lions traveled south ...   \n",
       "4  To start the season, the Lions traveled south ...   \n",
       "\n",
       "                                            question  \\\n",
       "0  How many points did the buccaneers need to tie...   \n",
       "1          How many field goals did the Lions score?   \n",
       "2        How long was the Lion's longest field goal?   \n",
       "3      Who caught the touchdown for the fewest yard?   \n",
       "4            Who caught the shortest touchdown pass?   \n",
       "\n",
       "                                      answers_spans  \n",
       "0             {'spans': ['3'], 'types': ['number']}  \n",
       "1             {'spans': ['2'], 'types': ['number']}  \n",
       "2         {'spans': ['28-yard'], 'types': ['span']}  \n",
       "3   {'spans': ['Mike Williams'], 'types': ['span']}  \n",
       "4  {'spans': ['Calvin Johnson'], 'types': ['span']}  "
      ]
     },
     "metadata": {},
     "output_type": "display_data"
    }
   ],
   "source": [
    "view_drop(loaded_datasets['DROP'])"
   ]
  },
  {
   "cell_type": "code",
   "execution_count": 72,
   "metadata": {},
   "outputs": [
    {
     "name": "stdout",
     "output_type": "stream",
     "text": [
      "Processing SQuAD...\n",
      "Processing NewsQA...\n",
      "Processing DROP...\n"
     ]
    }
   ],
   "source": [
    "# Process the datasets\n",
    "merged_dataset = process_datasets(loaded_datasets)"
   ]
  },
  {
   "cell_type": "code",
   "execution_count": 73,
   "metadata": {},
   "outputs": [
    {
     "data": {
      "text/html": [
       "<div>\n",
       "<style scoped>\n",
       "    .dataframe tbody tr th:only-of-type {\n",
       "        vertical-align: middle;\n",
       "    }\n",
       "\n",
       "    .dataframe tbody tr th {\n",
       "        vertical-align: top;\n",
       "    }\n",
       "\n",
       "    .dataframe thead th {\n",
       "        text-align: right;\n",
       "    }\n",
       "</style>\n",
       "<table border=\"1\" class=\"dataframe\">\n",
       "  <thead>\n",
       "    <tr style=\"text-align: right;\">\n",
       "      <th></th>\n",
       "      <th>context</th>\n",
       "      <th>question</th>\n",
       "      <th>answer</th>\n",
       "    </tr>\n",
       "  </thead>\n",
       "  <tbody>\n",
       "    <tr>\n",
       "      <th>0</th>\n",
       "      <td>Architecturally, the school has a Catholic cha...</td>\n",
       "      <td>To whom did the Virgin Mary allegedly appear i...</td>\n",
       "      <td>Saint Bernadette Soubirous</td>\n",
       "    </tr>\n",
       "    <tr>\n",
       "      <th>1</th>\n",
       "      <td>Architecturally, the school has a Catholic cha...</td>\n",
       "      <td>What is in front of the Notre Dame Main Building?</td>\n",
       "      <td>a copper statue of Christ</td>\n",
       "    </tr>\n",
       "    <tr>\n",
       "      <th>2</th>\n",
       "      <td>Architecturally, the school has a Catholic cha...</td>\n",
       "      <td>The Basilica of the Sacred heart at Notre Dame...</td>\n",
       "      <td>the Main Building</td>\n",
       "    </tr>\n",
       "    <tr>\n",
       "      <th>3</th>\n",
       "      <td>Architecturally, the school has a Catholic cha...</td>\n",
       "      <td>What is the Grotto at Notre Dame?</td>\n",
       "      <td>a Marian place of prayer and reflection</td>\n",
       "    </tr>\n",
       "    <tr>\n",
       "      <th>4</th>\n",
       "      <td>Architecturally, the school has a Catholic cha...</td>\n",
       "      <td>What sits on top of the Main Building at Notre...</td>\n",
       "      <td>a golden statue of the Virgin Mary</td>\n",
       "    </tr>\n",
       "    <tr>\n",
       "      <th>...</th>\n",
       "      <td>...</td>\n",
       "      <td>...</td>\n",
       "      <td>...</td>\n",
       "    </tr>\n",
       "    <tr>\n",
       "      <th>194994</th>\n",
       "      <td>Ireland tends towards independence in foreign ...</td>\n",
       "      <td>Which countries was the Shannon Airport used b...</td>\n",
       "      <td>Iraq</td>\n",
       "    </tr>\n",
       "    <tr>\n",
       "      <th>194995</th>\n",
       "      <td>Ireland tends towards independence in foreign ...</td>\n",
       "      <td>How many areas did Ireland contribute to peace...</td>\n",
       "      <td>4</td>\n",
       "    </tr>\n",
       "    <tr>\n",
       "      <th>194996</th>\n",
       "      <td>Ireland tends towards independence in foreign ...</td>\n",
       "      <td>Who did Irish soldiers enlist with in World Wa...</td>\n",
       "      <td>British armed forces</td>\n",
       "    </tr>\n",
       "    <tr>\n",
       "      <th>194997</th>\n",
       "      <td>Ireland tends towards independence in foreign ...</td>\n",
       "      <td>Which military used Shannon Airport in 2003?</td>\n",
       "      <td>United States military</td>\n",
       "    </tr>\n",
       "    <tr>\n",
       "      <th>194998</th>\n",
       "      <td>Ireland tends towards independence in foreign ...</td>\n",
       "      <td>Which NATO partnerships is Ireland involved in?</td>\n",
       "      <td>Partnership for Peace program</td>\n",
       "    </tr>\n",
       "  </tbody>\n",
       "</table>\n",
       "<p>194999 rows × 3 columns</p>\n",
       "</div>"
      ],
      "text/plain": [
       "                                                  context  \\\n",
       "0       Architecturally, the school has a Catholic cha...   \n",
       "1       Architecturally, the school has a Catholic cha...   \n",
       "2       Architecturally, the school has a Catholic cha...   \n",
       "3       Architecturally, the school has a Catholic cha...   \n",
       "4       Architecturally, the school has a Catholic cha...   \n",
       "...                                                   ...   \n",
       "194994  Ireland tends towards independence in foreign ...   \n",
       "194995  Ireland tends towards independence in foreign ...   \n",
       "194996  Ireland tends towards independence in foreign ...   \n",
       "194997  Ireland tends towards independence in foreign ...   \n",
       "194998  Ireland tends towards independence in foreign ...   \n",
       "\n",
       "                                                 question  \\\n",
       "0       To whom did the Virgin Mary allegedly appear i...   \n",
       "1       What is in front of the Notre Dame Main Building?   \n",
       "2       The Basilica of the Sacred heart at Notre Dame...   \n",
       "3                       What is the Grotto at Notre Dame?   \n",
       "4       What sits on top of the Main Building at Notre...   \n",
       "...                                                   ...   \n",
       "194994  Which countries was the Shannon Airport used b...   \n",
       "194995  How many areas did Ireland contribute to peace...   \n",
       "194996  Who did Irish soldiers enlist with in World Wa...   \n",
       "194997       Which military used Shannon Airport in 2003?   \n",
       "194998    Which NATO partnerships is Ireland involved in?   \n",
       "\n",
       "                                         answer  \n",
       "0                    Saint Bernadette Soubirous  \n",
       "1                     a copper statue of Christ  \n",
       "2                             the Main Building  \n",
       "3       a Marian place of prayer and reflection  \n",
       "4            a golden statue of the Virgin Mary  \n",
       "...                                         ...  \n",
       "194994                                     Iraq  \n",
       "194995                                        4  \n",
       "194996                     British armed forces  \n",
       "194997                   United States military  \n",
       "194998            Partnership for Peace program  \n",
       "\n",
       "[194999 rows x 3 columns]"
      ]
     },
     "execution_count": 73,
     "metadata": {},
     "output_type": "execute_result"
    }
   ],
   "source": [
    "# View the merged dataset\n",
    "merged_dataset"
   ]
  },
  {
   "cell_type": "code",
   "execution_count": null,
   "metadata": {},
   "outputs": [],
   "source": []
  }
 ],
 "metadata": {
  "kernelspec": {
   "display_name": "qgen",
   "language": "python",
   "name": "python3"
  },
  "language_info": {
   "codemirror_mode": {
    "name": "ipython",
    "version": 3
   },
   "file_extension": ".py",
   "mimetype": "text/x-python",
   "name": "python",
   "nbconvert_exporter": "python",
   "pygments_lexer": "ipython3",
   "version": "3.12.4"
  }
 },
 "nbformat": 4,
 "nbformat_minor": 2
}
