{
 "cells": [
  {
   "cell_type": "markdown",
   "metadata": {},
   "source": [
    "### 1) Dataset Generation: SQuAD + Trivia QA + Hotpot QA + Natural Questions QA"
   ]
  },
  {
   "cell_type": "code",
   "execution_count": 58,
   "metadata": {},
   "outputs": [],
   "source": [
    "from datasets import load_dataset\n",
    "from typing import List, Dict, Any\n",
    "import pandas as pd\n",
    "\n",
    "def process_squad(dataset: Any) -> List[Dict[str, str]]:\n",
    "    return [\n",
    "        {\n",
    "            \"context\": example['context'],\n",
    "            \"question\": example['question'],\n",
    "            \"answer\": example['answers']['text'][0] if example['answers']['text'] else \"\"\n",
    "        }\n",
    "        for example in dataset['train']\n",
    "    ]\n",
    "\n",
    "def process_adversarial_qa(dataset: Any) -> List[Dict[str, str]]:\n",
    "    return [\n",
    "        {\n",
    "            \"context\": example['context'],\n",
    "            \"question\": example['question'],\n",
    "            \"answer\": example['answers']['text'][0] if example['answers']['text'] else \"\"\n",
    "        }\n",
    "        for example in dataset['train']\n",
    "    ]\n",
    "\n",
    "def load_datasets():\n",
    "    print(\"Loading datasets...\")\n",
    "    datasets = {\n",
    "        \"SQuAD\": load_dataset(\"squad\"),\n",
    "        \"AdversarialQA\": load_dataset(\"adversarial_qa\", \"adversarialQA\")\n",
    "    }\n",
    "    print(\"Datasets loaded successfully.\")\n",
    "    return datasets\n",
    "\n",
    "def process_datasets(datasets):\n",
    "    print(\"Processing datasets...\")\n",
    "    merged_data = []\n",
    "\n",
    "    print(\"Processing SQuAD...\")\n",
    "    merged_data.extend(process_squad(datasets[\"SQuAD\"]))\n",
    "    print(\"Processing NewsQA...\")\n",
    "    merged_data.extend(process_adversarial_qa(datasets[\"AdversarialQA\"]))\n",
    "\n",
    "    # Convert to DataFrame for easy handling\n",
    "    df = pd.DataFrame(merged_data)\n",
    "    return df"
   ]
  },
  {
   "cell_type": "code",
   "execution_count": 59,
   "metadata": {},
   "outputs": [
    {
     "name": "stdout",
     "output_type": "stream",
     "text": [
      "Loading datasets...\n"
     ]
    },
    {
     "data": {
      "application/vnd.jupyter.widget-view+json": {
       "model_id": "436708f548c64c4b9de7f74e8b7159fa",
       "version_major": 2,
       "version_minor": 0
      },
      "text/plain": [
       "Downloading data:   0%|          | 0.00/4.35M [00:00<?, ?B/s]"
      ]
     },
     "metadata": {},
     "output_type": "display_data"
    },
    {
     "data": {
      "application/vnd.jupyter.widget-view+json": {
       "model_id": "e9c79d475f394a09a9eff64b27289b24",
       "version_major": 2,
       "version_minor": 0
      },
      "text/plain": [
       "Downloading data:   0%|          | 0.00/495k [00:00<?, ?B/s]"
      ]
     },
     "metadata": {},
     "output_type": "display_data"
    },
    {
     "data": {
      "application/vnd.jupyter.widget-view+json": {
       "model_id": "64424bd86c5b4b8ab2567aae2b43176c",
       "version_major": 2,
       "version_minor": 0
      },
      "text/plain": [
       "Downloading data:   0%|          | 0.00/457k [00:00<?, ?B/s]"
      ]
     },
     "metadata": {},
     "output_type": "display_data"
    },
    {
     "data": {
      "application/vnd.jupyter.widget-view+json": {
       "model_id": "a42dc93c009e4311a4e02aa71b71ed49",
       "version_major": 2,
       "version_minor": 0
      },
      "text/plain": [
       "Generating train split:   0%|          | 0/30000 [00:00<?, ? examples/s]"
      ]
     },
     "metadata": {},
     "output_type": "display_data"
    },
    {
     "data": {
      "application/vnd.jupyter.widget-view+json": {
       "model_id": "2062b91cb95e4587ad741642bea2b8c3",
       "version_major": 2,
       "version_minor": 0
      },
      "text/plain": [
       "Generating validation split:   0%|          | 0/3000 [00:00<?, ? examples/s]"
      ]
     },
     "metadata": {},
     "output_type": "display_data"
    },
    {
     "data": {
      "application/vnd.jupyter.widget-view+json": {
       "model_id": "b4f331a70af64ea99ede6242576eb799",
       "version_major": 2,
       "version_minor": 0
      },
      "text/plain": [
       "Generating test split:   0%|          | 0/3000 [00:00<?, ? examples/s]"
      ]
     },
     "metadata": {},
     "output_type": "display_data"
    },
    {
     "name": "stdout",
     "output_type": "stream",
     "text": [
      "Datasets loaded successfully.\n"
     ]
    }
   ],
   "source": [
    "loaded_datasets = load_datasets()"
   ]
  },
  {
   "cell_type": "code",
   "execution_count": 60,
   "metadata": {},
   "outputs": [],
   "source": [
    "def view_squad(dataset):\n",
    "    squad_df = pd.DataFrame(dataset['train'])\n",
    "    print(\"SQuAD Sample:\")\n",
    "    display(squad_df.head())\n",
    "\n",
    "def view_adversarial_qa(dataset):\n",
    "    adversarial_qa_df = pd.DataFrame(dataset['train'])\n",
    "    print(\"AdversarialQA Sample:\")\n",
    "    display(adversarial_qa_df.head())"
   ]
  },
  {
   "cell_type": "code",
   "execution_count": 61,
   "metadata": {},
   "outputs": [
    {
     "name": "stdout",
     "output_type": "stream",
     "text": [
      "SQuAD Sample:\n"
     ]
    },
    {
     "data": {
      "text/html": [
       "<div>\n",
       "<style scoped>\n",
       "    .dataframe tbody tr th:only-of-type {\n",
       "        vertical-align: middle;\n",
       "    }\n",
       "\n",
       "    .dataframe tbody tr th {\n",
       "        vertical-align: top;\n",
       "    }\n",
       "\n",
       "    .dataframe thead th {\n",
       "        text-align: right;\n",
       "    }\n",
       "</style>\n",
       "<table border=\"1\" class=\"dataframe\">\n",
       "  <thead>\n",
       "    <tr style=\"text-align: right;\">\n",
       "      <th></th>\n",
       "      <th>id</th>\n",
       "      <th>title</th>\n",
       "      <th>context</th>\n",
       "      <th>question</th>\n",
       "      <th>answers</th>\n",
       "    </tr>\n",
       "  </thead>\n",
       "  <tbody>\n",
       "    <tr>\n",
       "      <th>0</th>\n",
       "      <td>5733be284776f41900661182</td>\n",
       "      <td>University_of_Notre_Dame</td>\n",
       "      <td>Architecturally, the school has a Catholic cha...</td>\n",
       "      <td>To whom did the Virgin Mary allegedly appear i...</td>\n",
       "      <td>{'text': ['Saint Bernadette Soubirous'], 'answ...</td>\n",
       "    </tr>\n",
       "    <tr>\n",
       "      <th>1</th>\n",
       "      <td>5733be284776f4190066117f</td>\n",
       "      <td>University_of_Notre_Dame</td>\n",
       "      <td>Architecturally, the school has a Catholic cha...</td>\n",
       "      <td>What is in front of the Notre Dame Main Building?</td>\n",
       "      <td>{'text': ['a copper statue of Christ'], 'answe...</td>\n",
       "    </tr>\n",
       "    <tr>\n",
       "      <th>2</th>\n",
       "      <td>5733be284776f41900661180</td>\n",
       "      <td>University_of_Notre_Dame</td>\n",
       "      <td>Architecturally, the school has a Catholic cha...</td>\n",
       "      <td>The Basilica of the Sacred heart at Notre Dame...</td>\n",
       "      <td>{'text': ['the Main Building'], 'answer_start'...</td>\n",
       "    </tr>\n",
       "    <tr>\n",
       "      <th>3</th>\n",
       "      <td>5733be284776f41900661181</td>\n",
       "      <td>University_of_Notre_Dame</td>\n",
       "      <td>Architecturally, the school has a Catholic cha...</td>\n",
       "      <td>What is the Grotto at Notre Dame?</td>\n",
       "      <td>{'text': ['a Marian place of prayer and reflec...</td>\n",
       "    </tr>\n",
       "    <tr>\n",
       "      <th>4</th>\n",
       "      <td>5733be284776f4190066117e</td>\n",
       "      <td>University_of_Notre_Dame</td>\n",
       "      <td>Architecturally, the school has a Catholic cha...</td>\n",
       "      <td>What sits on top of the Main Building at Notre...</td>\n",
       "      <td>{'text': ['a golden statue of the Virgin Mary'...</td>\n",
       "    </tr>\n",
       "  </tbody>\n",
       "</table>\n",
       "</div>"
      ],
      "text/plain": [
       "                         id                     title  \\\n",
       "0  5733be284776f41900661182  University_of_Notre_Dame   \n",
       "1  5733be284776f4190066117f  University_of_Notre_Dame   \n",
       "2  5733be284776f41900661180  University_of_Notre_Dame   \n",
       "3  5733be284776f41900661181  University_of_Notre_Dame   \n",
       "4  5733be284776f4190066117e  University_of_Notre_Dame   \n",
       "\n",
       "                                             context  \\\n",
       "0  Architecturally, the school has a Catholic cha...   \n",
       "1  Architecturally, the school has a Catholic cha...   \n",
       "2  Architecturally, the school has a Catholic cha...   \n",
       "3  Architecturally, the school has a Catholic cha...   \n",
       "4  Architecturally, the school has a Catholic cha...   \n",
       "\n",
       "                                            question  \\\n",
       "0  To whom did the Virgin Mary allegedly appear i...   \n",
       "1  What is in front of the Notre Dame Main Building?   \n",
       "2  The Basilica of the Sacred heart at Notre Dame...   \n",
       "3                  What is the Grotto at Notre Dame?   \n",
       "4  What sits on top of the Main Building at Notre...   \n",
       "\n",
       "                                             answers  \n",
       "0  {'text': ['Saint Bernadette Soubirous'], 'answ...  \n",
       "1  {'text': ['a copper statue of Christ'], 'answe...  \n",
       "2  {'text': ['the Main Building'], 'answer_start'...  \n",
       "3  {'text': ['a Marian place of prayer and reflec...  \n",
       "4  {'text': ['a golden statue of the Virgin Mary'...  "
      ]
     },
     "metadata": {},
     "output_type": "display_data"
    }
   ],
   "source": [
    "view_squad(loaded_datasets['SQuAD'])"
   ]
  },
  {
   "cell_type": "code",
   "execution_count": 62,
   "metadata": {},
   "outputs": [
    {
     "name": "stdout",
     "output_type": "stream",
     "text": [
      "AdversarialQA Sample:\n"
     ]
    },
    {
     "data": {
      "text/html": [
       "<div>\n",
       "<style scoped>\n",
       "    .dataframe tbody tr th:only-of-type {\n",
       "        vertical-align: middle;\n",
       "    }\n",
       "\n",
       "    .dataframe tbody tr th {\n",
       "        vertical-align: top;\n",
       "    }\n",
       "\n",
       "    .dataframe thead th {\n",
       "        text-align: right;\n",
       "    }\n",
       "</style>\n",
       "<table border=\"1\" class=\"dataframe\">\n",
       "  <thead>\n",
       "    <tr style=\"text-align: right;\">\n",
       "      <th></th>\n",
       "      <th>id</th>\n",
       "      <th>title</th>\n",
       "      <th>context</th>\n",
       "      <th>question</th>\n",
       "      <th>answers</th>\n",
       "      <th>metadata</th>\n",
       "    </tr>\n",
       "  </thead>\n",
       "  <tbody>\n",
       "    <tr>\n",
       "      <th>0</th>\n",
       "      <td>7ba1e8f4261d3170fcf42e84a81dd749116fae95</td>\n",
       "      <td>Brain</td>\n",
       "      <td>Another approach to brain function is to exami...</td>\n",
       "      <td>What sare the benifts of the blood brain barrir?</td>\n",
       "      <td>{'text': ['isolated from the bloodstream'], 'a...</td>\n",
       "      <td>{'split': 'train', 'model_in_the_loop': 'Combi...</td>\n",
       "    </tr>\n",
       "    <tr>\n",
       "      <th>1</th>\n",
       "      <td>5ec5ef305a259311596e85d811ade30bd68b079d</td>\n",
       "      <td>Brain</td>\n",
       "      <td>Another approach to brain function is to exami...</td>\n",
       "      <td>What is surrounded by cerebrospinal fluid?</td>\n",
       "      <td>{'text': ['brain'], 'answer_start': [280]}</td>\n",
       "      <td>{'split': 'train', 'model_in_the_loop': 'Combi...</td>\n",
       "    </tr>\n",
       "    <tr>\n",
       "      <th>2</th>\n",
       "      <td>7cb230edfb15ad1fda8d157af1f2b574cbb02b4c</td>\n",
       "      <td>Brain</td>\n",
       "      <td>Another approach to brain function is to exami...</td>\n",
       "      <td>What does the skull protect?</td>\n",
       "      <td>{'text': ['brain'], 'answer_start': [280]}</td>\n",
       "      <td>{'split': 'train', 'model_in_the_loop': 'Combi...</td>\n",
       "    </tr>\n",
       "    <tr>\n",
       "      <th>3</th>\n",
       "      <td>e1850f2a48b8f7c2231cec41ed63c1b638a8e2c7</td>\n",
       "      <td>Brain</td>\n",
       "      <td>Another approach to brain function is to exami...</td>\n",
       "      <td>What has been injected into rats to produce pr...</td>\n",
       "      <td>{'text': ['chemicals'], 'answer_start': [723]}</td>\n",
       "      <td>{'split': 'train', 'model_in_the_loop': 'Combi...</td>\n",
       "    </tr>\n",
       "    <tr>\n",
       "      <th>4</th>\n",
       "      <td>7bc0ae1a8a24ea4f3398b5236ab9569bbc3e820b</td>\n",
       "      <td>Brain</td>\n",
       "      <td>Another approach to brain function is to exami...</td>\n",
       "      <td>What can cause issues with how the brain works?</td>\n",
       "      <td>{'text': ['brain damage'], 'answer_start': [409]}</td>\n",
       "      <td>{'split': 'train', 'model_in_the_loop': 'Combi...</td>\n",
       "    </tr>\n",
       "  </tbody>\n",
       "</table>\n",
       "</div>"
      ],
      "text/plain": [
       "                                         id  title  \\\n",
       "0  7ba1e8f4261d3170fcf42e84a81dd749116fae95  Brain   \n",
       "1  5ec5ef305a259311596e85d811ade30bd68b079d  Brain   \n",
       "2  7cb230edfb15ad1fda8d157af1f2b574cbb02b4c  Brain   \n",
       "3  e1850f2a48b8f7c2231cec41ed63c1b638a8e2c7  Brain   \n",
       "4  7bc0ae1a8a24ea4f3398b5236ab9569bbc3e820b  Brain   \n",
       "\n",
       "                                             context  \\\n",
       "0  Another approach to brain function is to exami...   \n",
       "1  Another approach to brain function is to exami...   \n",
       "2  Another approach to brain function is to exami...   \n",
       "3  Another approach to brain function is to exami...   \n",
       "4  Another approach to brain function is to exami...   \n",
       "\n",
       "                                            question  \\\n",
       "0   What sare the benifts of the blood brain barrir?   \n",
       "1         What is surrounded by cerebrospinal fluid?   \n",
       "2                       What does the skull protect?   \n",
       "3  What has been injected into rats to produce pr...   \n",
       "4    What can cause issues with how the brain works?   \n",
       "\n",
       "                                             answers  \\\n",
       "0  {'text': ['isolated from the bloodstream'], 'a...   \n",
       "1         {'text': ['brain'], 'answer_start': [280]}   \n",
       "2         {'text': ['brain'], 'answer_start': [280]}   \n",
       "3     {'text': ['chemicals'], 'answer_start': [723]}   \n",
       "4  {'text': ['brain damage'], 'answer_start': [409]}   \n",
       "\n",
       "                                            metadata  \n",
       "0  {'split': 'train', 'model_in_the_loop': 'Combi...  \n",
       "1  {'split': 'train', 'model_in_the_loop': 'Combi...  \n",
       "2  {'split': 'train', 'model_in_the_loop': 'Combi...  \n",
       "3  {'split': 'train', 'model_in_the_loop': 'Combi...  \n",
       "4  {'split': 'train', 'model_in_the_loop': 'Combi...  "
      ]
     },
     "metadata": {},
     "output_type": "display_data"
    }
   ],
   "source": [
    "view_adversarial_qa(loaded_datasets['AdversarialQA'])"
   ]
  },
  {
   "cell_type": "code",
   "execution_count": 63,
   "metadata": {},
   "outputs": [
    {
     "name": "stdout",
     "output_type": "stream",
     "text": [
      "Processing datasets...\n",
      "Processing SQuAD...\n",
      "Processing NewsQA...\n"
     ]
    }
   ],
   "source": [
    "# Process the datasets\n",
    "merged_dataset = process_datasets(loaded_datasets)"
   ]
  },
  {
   "cell_type": "code",
   "execution_count": 65,
   "metadata": {},
   "outputs": [
    {
     "data": {
      "text/html": [
       "<div>\n",
       "<style scoped>\n",
       "    .dataframe tbody tr th:only-of-type {\n",
       "        vertical-align: middle;\n",
       "    }\n",
       "\n",
       "    .dataframe tbody tr th {\n",
       "        vertical-align: top;\n",
       "    }\n",
       "\n",
       "    .dataframe thead th {\n",
       "        text-align: right;\n",
       "    }\n",
       "</style>\n",
       "<table border=\"1\" class=\"dataframe\">\n",
       "  <thead>\n",
       "    <tr style=\"text-align: right;\">\n",
       "      <th></th>\n",
       "      <th>context</th>\n",
       "      <th>question</th>\n",
       "      <th>answer</th>\n",
       "    </tr>\n",
       "  </thead>\n",
       "  <tbody>\n",
       "    <tr>\n",
       "      <th>0</th>\n",
       "      <td>Architecturally, the school has a Catholic cha...</td>\n",
       "      <td>To whom did the Virgin Mary allegedly appear i...</td>\n",
       "      <td>Saint Bernadette Soubirous</td>\n",
       "    </tr>\n",
       "    <tr>\n",
       "      <th>1</th>\n",
       "      <td>Architecturally, the school has a Catholic cha...</td>\n",
       "      <td>What is in front of the Notre Dame Main Building?</td>\n",
       "      <td>a copper statue of Christ</td>\n",
       "    </tr>\n",
       "    <tr>\n",
       "      <th>2</th>\n",
       "      <td>Architecturally, the school has a Catholic cha...</td>\n",
       "      <td>The Basilica of the Sacred heart at Notre Dame...</td>\n",
       "      <td>the Main Building</td>\n",
       "    </tr>\n",
       "    <tr>\n",
       "      <th>3</th>\n",
       "      <td>Architecturally, the school has a Catholic cha...</td>\n",
       "      <td>What is the Grotto at Notre Dame?</td>\n",
       "      <td>a Marian place of prayer and reflection</td>\n",
       "    </tr>\n",
       "    <tr>\n",
       "      <th>4</th>\n",
       "      <td>Architecturally, the school has a Catholic cha...</td>\n",
       "      <td>What sits on top of the Main Building at Notre...</td>\n",
       "      <td>a golden statue of the Virgin Mary</td>\n",
       "    </tr>\n",
       "    <tr>\n",
       "      <th>...</th>\n",
       "      <td>...</td>\n",
       "      <td>...</td>\n",
       "      <td>...</td>\n",
       "    </tr>\n",
       "    <tr>\n",
       "      <th>117594</th>\n",
       "      <td>Some high-speed black-and-white films, such as...</td>\n",
       "      <td>What is the lowest ISO mentioned?</td>\n",
       "      <td>400</td>\n",
       "    </tr>\n",
       "    <tr>\n",
       "      <th>117595</th>\n",
       "      <td>Some high-speed black-and-white films, such as...</td>\n",
       "      <td>What is the highest ISO mentioned?</td>\n",
       "      <td>3200</td>\n",
       "    </tr>\n",
       "    <tr>\n",
       "      <th>117596</th>\n",
       "      <td>Some high-speed black-and-white films, such as...</td>\n",
       "      <td>What is Kodak'sbrand name of E6 film?</td>\n",
       "      <td>Ektachrome</td>\n",
       "    </tr>\n",
       "    <tr>\n",
       "      <th>117597</th>\n",
       "      <td>Some high-speed black-and-white films, such as...</td>\n",
       "      <td>How do these films differ?</td>\n",
       "      <td>high-speed black-and-white films</td>\n",
       "    </tr>\n",
       "    <tr>\n",
       "      <th>117598</th>\n",
       "      <td>Some high-speed black-and-white films, such as...</td>\n",
       "      <td>What letter designates what Ektachrome is desi...</td>\n",
       "      <td>P</td>\n",
       "    </tr>\n",
       "  </tbody>\n",
       "</table>\n",
       "<p>117599 rows × 3 columns</p>\n",
       "</div>"
      ],
      "text/plain": [
       "                                                  context  \\\n",
       "0       Architecturally, the school has a Catholic cha...   \n",
       "1       Architecturally, the school has a Catholic cha...   \n",
       "2       Architecturally, the school has a Catholic cha...   \n",
       "3       Architecturally, the school has a Catholic cha...   \n",
       "4       Architecturally, the school has a Catholic cha...   \n",
       "...                                                   ...   \n",
       "117594  Some high-speed black-and-white films, such as...   \n",
       "117595  Some high-speed black-and-white films, such as...   \n",
       "117596  Some high-speed black-and-white films, such as...   \n",
       "117597  Some high-speed black-and-white films, such as...   \n",
       "117598  Some high-speed black-and-white films, such as...   \n",
       "\n",
       "                                                 question  \\\n",
       "0       To whom did the Virgin Mary allegedly appear i...   \n",
       "1       What is in front of the Notre Dame Main Building?   \n",
       "2       The Basilica of the Sacred heart at Notre Dame...   \n",
       "3                       What is the Grotto at Notre Dame?   \n",
       "4       What sits on top of the Main Building at Notre...   \n",
       "...                                                   ...   \n",
       "117594                  What is the lowest ISO mentioned?   \n",
       "117595                 What is the highest ISO mentioned?   \n",
       "117596              What is Kodak'sbrand name of E6 film?   \n",
       "117597                         How do these films differ?   \n",
       "117598  What letter designates what Ektachrome is desi...   \n",
       "\n",
       "                                         answer  \n",
       "0                    Saint Bernadette Soubirous  \n",
       "1                     a copper statue of Christ  \n",
       "2                             the Main Building  \n",
       "3       a Marian place of prayer and reflection  \n",
       "4            a golden statue of the Virgin Mary  \n",
       "...                                         ...  \n",
       "117594                                      400  \n",
       "117595                                     3200  \n",
       "117596                               Ektachrome  \n",
       "117597         high-speed black-and-white films  \n",
       "117598                                        P  \n",
       "\n",
       "[117599 rows x 3 columns]"
      ]
     },
     "execution_count": 65,
     "metadata": {},
     "output_type": "execute_result"
    }
   ],
   "source": [
    "# View the merged dataset\n",
    "merged_dataset"
   ]
  }
 ],
 "metadata": {
  "kernelspec": {
   "display_name": "qgen",
   "language": "python",
   "name": "python3"
  },
  "language_info": {
   "codemirror_mode": {
    "name": "ipython",
    "version": 3
   },
   "file_extension": ".py",
   "mimetype": "text/x-python",
   "name": "python",
   "nbconvert_exporter": "python",
   "pygments_lexer": "ipython3",
   "version": "3.12.4"
  }
 },
 "nbformat": 4,
 "nbformat_minor": 2
}
